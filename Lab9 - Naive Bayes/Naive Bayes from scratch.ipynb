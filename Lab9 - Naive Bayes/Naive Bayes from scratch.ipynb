{
  "nbformat": 4,
  "nbformat_minor": 0,
  "metadata": {
    "colab": {
      "name": "Naive Bayes from scratch.ipynb",
      "provenance": [],
      "collapsed_sections": []
    },
    "kernelspec": {
      "name": "python3",
      "display_name": "Python 3"
    },
    "language_info": {
      "name": "python"
    }
  },
  "cells": [
    {
      "cell_type": "code",
      "metadata": {
        "id": "vCYuG6zLxbdM"
      },
      "source": [
        "import matplotlib.pyplot as plt\n",
        "import matplotlib.image as mpimg\n",
        "import os\n",
        "import numpy as np\n",
        "import random\n",
        "import tensorflow as tf\n",
        "from tqdm import tqdm\n",
        "from keras.datasets import mnist"
      ],
      "execution_count": null,
      "outputs": []
    },
    {
      "cell_type": "code",
      "metadata": {
        "id": "r0AGnHmzxoi9"
      },
      "source": [
        "def load_mnist():\n",
        "    (x_train, y_train), (x_test, y_test) = mnist.load_data()\n",
        "    print(f'X_train set: {x_train.shape}')\n",
        "    print(f'Y_train set: {y_train.shape}')\n",
        "    print(f'X_test set: {x_test.shape}')\n",
        "    print(f'Y_test set: {y_test.shape}')\n",
        "    return x_train, y_train, x_test, y_test"
      ],
      "execution_count": null,
      "outputs": []
    },
    {
      "cell_type": "code",
      "metadata": {
        "id": "_4g6YCiHzIG-"
      },
      "source": [
        "def binarize_set(dataset, threshold=128):\n",
        "  for x, i in tqdm(zip(dataset, range(dataset.shape[0]))):\n",
        "    dataset[i] = np.where(x < threshold, 0, 1)\n",
        "  return dataset"
      ],
      "execution_count": null,
      "outputs": []
    },
    {
      "cell_type": "code",
      "metadata": {
        "id": "dgmDfa5W11qw"
      },
      "source": [
        "def calculate_apriori(y_dataset, nr_of_classes=10):\n",
        "  # creates a new array of size = nr_of_classes with each probability as a valuea of the array\n",
        "  hist, bins = np.histogram(y_dataset, bins=nr_of_classes)\n",
        "  return hist/len(y_dataset), hist"
      ],
      "execution_count": null,
      "outputs": []
    },
    {
      "cell_type": "code",
      "metadata": {
        "id": "H750QgzN6JaG"
      },
      "source": [
        "def calculate_likelyhood(x_dataset, y_dataset, y_hist, nr_of_classes):\n",
        "  # returns an array of shape (10, 28, 28)\n",
        "  likelyhood = np.zeros((nr_of_classes, x_dataset.shape[1], x_dataset.shape[2]))\n",
        "  for y in tqdm(range(nr_of_classes)):\n",
        "    # now count for each pixel in each image\n",
        "    for i in range(x_dataset.shape[1]):\n",
        "      for j in range(x_dataset.shape[2]):\n",
        "        count = sum(np.where(x_dataset[:, i, j] > 0, 1, 0) * np.where(y_dataset == y, 1, 0)) + 1.0\n",
        "        count /= (y_hist[y] + nr_of_classes)\n",
        "        likelyhood[y, i, j] = count\n",
        "  return likelyhood"
      ],
      "execution_count": null,
      "outputs": []
    },
    {
      "cell_type": "code",
      "metadata": {
        "colab": {
          "base_uri": "https://localhost:8080/"
        },
        "id": "dYzNCYr4xtm8",
        "outputId": "f39b077b-745d-4686-fad4-68f151b28adf"
      },
      "source": [
        "x_train = []\n",
        "y_train = []\n",
        "x_test = []\n",
        "y_test = []\n",
        "\n",
        "x_train, y_train, x_test, y_test = load_mnist()"
      ],
      "execution_count": null,
      "outputs": [
        {
          "output_type": "stream",
          "name": "stdout",
          "text": [
            "X_train set: (60000, 28, 28)\n",
            "Y_train set: (60000,)\n",
            "X_test set: (10000, 28, 28)\n",
            "Y_test set: (10000,)\n"
          ]
        }
      ]
    },
    {
      "cell_type": "code",
      "metadata": {
        "colab": {
          "base_uri": "https://localhost:8080/",
          "height": 282
        },
        "id": "GxRkUYFa1Qip",
        "outputId": "31fa690c-4875-4579-bfda-d274c17c9046"
      },
      "source": [
        "plt.imshow(x_train[100])\n",
        "x_train[100][0][0]"
      ],
      "execution_count": null,
      "outputs": [
        {
          "output_type": "execute_result",
          "data": {
            "text/plain": [
              "0"
            ]
          },
          "metadata": {},
          "execution_count": 7
        },
        {
          "output_type": "display_data",
          "data": {
            "image/png": "[encoded data removed]",
            "text/plain": [
              "<Figure size 432x288 with 1 Axes>"
            ]
          },
          "metadata": {
            "needs_background": "light"
          }
        }
      ]
    },
    {
      "cell_type": "code",
      "metadata": {
        "colab": {
          "base_uri": "https://localhost:8080/",
          "height": 300
        },
        "id": "rH6_2GeL1DQi",
        "outputId": "248402ec-ebf7-424a-a466-11d56b48970e"
      },
      "source": [
        "x_train = binarize_set(x_train, 190)\n",
        "plt.imshow(x_train[100])\n",
        "x_train[100][0][0]"
      ],
      "execution_count": null,
      "outputs": [
        {
          "output_type": "stream",
          "name": "stderr",
          "text": [
            "60000it [00:00, 136071.27it/s]\n"
          ]
        },
        {
          "output_type": "execute_result",
          "data": {
            "text/plain": [
              "0"
            ]
          },
          "metadata": {},
          "execution_count": 50
        },
        {
          "output_type": "display_data",
          "data": {
            "image/png": "[encoded data removed]",
            "text/plain": [
              "<Figure size 432x288 with 1 Axes>"
            ]
          },
          "metadata": {
            "needs_background": "light"
          }
        }
      ]
    },
    {
      "cell_type": "code",
      "metadata": {
        "id": "jOw-Bmdl3VBy"
      },
      "source": [
        "apriori, hist = calculate_apriori(y_train)"
      ],
      "execution_count": null,
      "outputs": []
    },
    {
      "cell_type": "code",
      "metadata": {
        "colab": {
          "base_uri": "https://localhost:8080/"
        },
        "id": "ua2ginpbFEoo",
        "outputId": "95466c85-2538-4e95-d233-8804ec8b9992"
      },
      "source": [
        "likelyhood = calculate_likelyhood(x_train, y_train, hist, 10)"
      ],
      "execution_count": null,
      "outputs": [
        {
          "output_type": "stream",
          "name": "stderr",
          "text": [
            "100%|██████████| 10/10 [01:29<00:00,  8.91s/it]\n"
          ]
        }
      ]
    },
    {
      "cell_type": "code",
      "metadata": {
        "colab": {
          "base_uri": "https://localhost:8080/",
          "height": 282
        },
        "id": "0btJYbt6F1zh",
        "outputId": "49fb53a5-883d-4aa4-ca65-ebc9a1cdf52c"
      },
      "source": [
        "plt.imshow(likelyhood[7])"
      ],
      "execution_count": null,
      "outputs": [
        {
          "output_type": "execute_result",
          "data": {
            "text/plain": [
              "<matplotlib.image.AxesImage at 0x7f843b0f4b50>"
            ]
          },
          "metadata": {},
          "execution_count": 12
        },
        {
          "output_type": "display_data",
          "data": {
            "image/png": "[encoded data removed]",
            "text/plain": [
              "<Figure size 432x288 with 1 Axes>"
            ]
          },
          "metadata": {
            "needs_background": "light"
          }
        }
      ]
    },
    {
      "cell_type": "code",
      "metadata": {
        "colab": {
          "base_uri": "https://localhost:8080/",
          "height": 282
        },
        "id": "l46HjXiHIkCu",
        "outputId": "be95a3cf-1f78-4a42-f806-3e36007e47f9"
      },
      "source": [
        "# predict an image\n",
        "random_index = random.randint(0, y_test.shape[0] - 1)\n",
        "plt.imshow(x_test[random_index])"
      ],
      "execution_count": null,
      "outputs": [
        {
          "output_type": "execute_result",
          "data": {
            "text/plain": [
              "<matplotlib.image.AxesImage at 0x7f843b0635d0>"
            ]
          },
          "metadata": {},
          "execution_count": 13
        },
        {
          "output_type": "display_data",
          "data": {
            "image/png": "[encoded data removed]",
            "text/plain": [
              "<Figure size 432x288 with 1 Axes>"
            ]
          },
          "metadata": {
            "needs_background": "light"
          }
        }
      ]
    },
    {
      "cell_type": "code",
      "metadata": {
        "id": "UlP3HnXFKZSI"
      },
      "source": [
        "test_image = np.where(x_test[random_index] < 128, 0, 1)"
      ],
      "execution_count": null,
      "outputs": []
    },
    {
      "cell_type": "code",
      "metadata": {
        "colab": {
          "base_uri": "https://localhost:8080/",
          "height": 282
        },
        "id": "xhoWAg7sKjxq",
        "outputId": "fcc6f3c3-1b38-4003-e680-3073998bdf26"
      },
      "source": [
        "plt.imshow(test_image)"
      ],
      "execution_count": null,
      "outputs": [
        {
          "output_type": "execute_result",
          "data": {
            "text/plain": [
              "<matplotlib.image.AxesImage at 0x7f843b04b6d0>"
            ]
          },
          "metadata": {},
          "execution_count": 15
        },
        {
          "output_type": "display_data",
          "data": {
            "image/png": "[encoded data removed]",
            "text/plain": [
              "<Figure size 432x288 with 1 Axes>"
            ]
          },
          "metadata": {
            "needs_background": "light"
          }
        }
      ]
    },
    {
      "cell_type": "code",
      "metadata": {
        "id": "MNMJJ7Z7MxRJ"
      },
      "source": [
        "def predict_naive_bayes(apriori, likelyhood, y, test_im):\n",
        "  returned = sum(sum(np.where(test_im > 0, 1, 0) * likelyhood[y])) + apriori[y]\n",
        "  return returned"
      ],
      "execution_count": null,
      "outputs": []
    },
    {
      "cell_type": "code",
      "metadata": {
        "id": "vWa08dn4KouK"
      },
      "source": [
        "final_prob = np.zeros(10)\n",
        "for y in range(10):\n",
        "  # calculate probability for class \"y\"\n",
        "  final_prob[y] = predict_naive_bayes(apriori, likelyhood, y, test_image)"
      ],
      "execution_count": null,
      "outputs": []
    },
    {
      "cell_type": "code",
      "metadata": {
        "colab": {
          "base_uri": "https://localhost:8080/",
          "height": 334
        },
        "id": "ozfpXMXyPY5k",
        "outputId": "7accbe88-8130-4ddb-f5be-b3b2cd1ea8f8"
      },
      "source": [
        "random_index = random.randint(0, y_train.shape[0] - 1)\n",
        "# test_image = np.where(x_test[random_index] < 128, 0, 1)\n",
        "test_image = x_train[random_index]\n",
        "\n",
        "final_prob = np.zeros(10)\n",
        "for y in range(10):\n",
        "  # calculate probability for class \"y\"\n",
        "  final_prob[y] = predict_naive_bayes(apriori, likelyhood, y, test_image)\n",
        "\n",
        "print(f'Image nr. {random_index} from test file')\n",
        "print(f'Actual class: {y_train[random_index]}')\n",
        "print(f\"Final prediction: {np.argmax(final_prob)}\")\n",
        "plt.imshow(test_image)"
      ],
      "execution_count": null,
      "outputs": [
        {
          "output_type": "stream",
          "name": "stdout",
          "text": [
            "Image nr. 17550 from test file\n",
            "Actual class: 9\n",
            "Final prediction: 8\n"
          ]
        },
        {
          "output_type": "execute_result",
          "data": {
            "text/plain": [
              "<matplotlib.image.AxesImage at 0x7f843a03cd50>"
            ]
          },
          "metadata": {},
          "execution_count": 58
        },
        {
          "output_type": "display_data",
          "data": {
            "image/png": "[encoded data removed]",
            "text/plain": [
              "<Figure size 432x288 with 1 Axes>"
            ]
          },
          "metadata": {
            "needs_background": "light"
          }
        }
      ]
    }
  ]
}